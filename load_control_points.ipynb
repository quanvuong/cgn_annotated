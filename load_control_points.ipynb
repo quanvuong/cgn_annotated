{
 "cells": [
  {
   "cell_type": "code",
   "execution_count": 1,
   "metadata": {},
   "outputs": [],
   "source": [
    "import numpy as np "
   ]
  },
  {
   "cell_type": "code",
   "execution_count": 2,
   "metadata": {},
   "outputs": [],
   "source": [
    "control_points = np.load(\n",
    "    'gripper_control_points/panda.npy'\n",
    ")[:, :3]"
   ]
  },
  {
   "cell_type": "code",
   "execution_count": 4,
   "metadata": {},
   "outputs": [
    {
     "data": {
      "text/plain": [
       "array([[ 5.2687433e-02, -5.9955313e-05,  7.5273141e-02],\n",
       "       [-5.2687433e-02,  5.9955313e-05,  7.5273141e-02],\n",
       "       [ 5.2687433e-02, -5.9955313e-05,  7.8606479e-02],\n",
       "       [-5.2687433e-02,  5.9955313e-05,  7.8606479e-02],\n",
       "       [ 5.2687433e-02, -5.9955313e-05,  8.1939809e-02],\n",
       "       [-5.2687433e-02,  5.9955313e-05,  8.1939809e-02],\n",
       "       [ 5.2687433e-02, -5.9955313e-05,  8.5273139e-02],\n",
       "       [-5.2687433e-02,  5.9955313e-05,  8.5273139e-02],\n",
       "       [ 5.2687433e-02, -5.9955313e-05,  8.8606477e-02],\n",
       "       [-5.2687433e-02,  5.9955313e-05,  8.8606477e-02],\n",
       "       [ 5.2687433e-02, -5.9955313e-05,  9.1939807e-02],\n",
       "       [-5.2687433e-02,  5.9955313e-05,  9.1939807e-02],\n",
       "       [ 5.2687433e-02, -5.9955313e-05,  9.5273145e-02],\n",
       "       [-5.2687433e-02,  5.9955313e-05,  9.5273145e-02],\n",
       "       [ 5.2687433e-02, -5.9955313e-05,  9.8606475e-02],\n",
       "       [-5.2687433e-02,  5.9955313e-05,  9.8606475e-02],\n",
       "       [ 5.2687433e-02, -5.9955313e-05,  1.0193981e-01],\n",
       "       [-5.2687433e-02,  5.9955313e-05,  1.0193981e-01],\n",
       "       [ 5.2687433e-02, -5.9955313e-05,  1.0527314e-01],\n",
       "       [-5.2687433e-02,  5.9955313e-05,  1.0527314e-01]], dtype=float32)"
      ]
     },
     "execution_count": 4,
     "metadata": {},
     "output_type": "execute_result"
    }
   ],
   "source": [
    "control_points"
   ]
  },
  {
   "cell_type": "code",
   "execution_count": 5,
   "metadata": {},
   "outputs": [],
   "source": [
    "control_points = [[0, 0, 0], control_points[0, :], control_points[1, :], control_points[-2, :], control_points[-1, :]]"
   ]
  },
  {
   "cell_type": "code",
   "execution_count": 6,
   "metadata": {},
   "outputs": [
    {
     "data": {
      "text/plain": [
       "[[0, 0, 0],\n",
       " array([ 5.2687433e-02, -5.9955313e-05,  7.5273141e-02], dtype=float32),\n",
       " array([-5.2687433e-02,  5.9955313e-05,  7.5273141e-02], dtype=float32),\n",
       " array([ 5.2687433e-02, -5.9955313e-05,  1.0527314e-01], dtype=float32),\n",
       " array([-5.2687433e-02,  5.9955313e-05,  1.0527314e-01], dtype=float32)]"
      ]
     },
     "execution_count": 6,
     "metadata": {},
     "output_type": "execute_result"
    }
   ],
   "source": [
    "control_points"
   ]
  },
  {
   "cell_type": "code",
   "execution_count": null,
   "metadata": {},
   "outputs": [],
   "source": []
  }
 ],
 "metadata": {
  "interpreter": {
   "hash": "fb6e9c17ace2191fe21a7aeb20a79f4cd5f8930c68ecefd3399bafd972642dc6"
  },
  "kernelspec": {
   "display_name": "Python 3.7.9 ('contact_graspnet_env')",
   "language": "python",
   "name": "python3"
  },
  "language_info": {
   "codemirror_mode": {
    "name": "ipython",
    "version": 3
   },
   "file_extension": ".py",
   "mimetype": "text/x-python",
   "name": "python",
   "nbconvert_exporter": "python",
   "pygments_lexer": "ipython3",
   "version": "3.7.9"
  },
  "orig_nbformat": 4
 },
 "nbformat": 4,
 "nbformat_minor": 2
}
