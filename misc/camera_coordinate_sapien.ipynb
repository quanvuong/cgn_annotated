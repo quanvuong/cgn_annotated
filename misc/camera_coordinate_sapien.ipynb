{
 "cells": [
  {
   "cell_type": "code",
   "execution_count": 1,
   "metadata": {},
   "outputs": [
    {
     "name": "stdout",
     "output_type": "stream",
     "text": [
      "Jupyter environment detected. Enabling Open3D WebVisualizer.\n",
      "[Open3D INFO] WebRTC GUI backend enabled.\n",
      "[Open3D INFO] WebRTCWindowSystem: HTTP handshake server disabled.\n",
      "opencv-contrib not installed, some features will be disabled.\n",
      "Please install with `pip3 install opencv-contrib-python`\n"
     ]
    }
   ],
   "source": [
    "import sapien.core as sapien\n",
    "import numpy as np\n",
    "from PIL import Image, ImageColor\n",
    "import open3d as o3d\n",
    "from sapien.utils.viewer import Viewer\n",
    "from transforms3d.euler import mat2euler\n"
   ]
  },
  {
   "cell_type": "code",
   "execution_count": 3,
   "metadata": {},
   "outputs": [
    {
     "name": "stderr",
     "output_type": "stream",
     "text": [
      "[2022-06-08 14:12:03.176] [SAPIEN] [warning] A second engine will shared the same internal structures with the first one. Arguments passed to constructor will be ignored.\n",
      "[2022-06-08 14:12:03.176] [SAPIEN] [warning] A second renderer will share the same internal context with the first one. Arguments passed to constructor will be ignored.\n",
      "[2022-06-08 14:12:03.176] [SAPIEN] [warning] Setting renderer more than once should be avoided.\n"
     ]
    },
    {
     "name": "stdout",
     "output_type": "stream",
     "text": [
      "Intrinsic matrix\n",
      " [[761.18274   0.      320.        0.     ]\n",
      " [  0.      761.18274 240.        0.     ]\n",
      " [  0.        0.        1.        0.     ]\n",
      " [  0.        0.        0.        1.     ]]\n"
     ]
    }
   ],
   "source": [
    "engine = sapien.Engine()\n",
    "renderer = sapien.VulkanRenderer()\n",
    "engine.set_renderer(renderer)\n",
    "\n",
    "scene = engine.create_scene()\n",
    "scene.set_timestep(1 / 100.0)\n",
    "\n",
    "\n",
    "scene.set_ambient_light([0.5, 0.5, 0.5])\n",
    "scene.add_directional_light([0, 1, -1], [0.5, 0.5, 0.5], shadow=True)\n",
    "scene.add_point_light([1, 2, 2], [1, 1, 1], shadow=True)\n",
    "scene.add_point_light([1, -2, 2], [1, 1, 1], shadow=True)\n",
    "scene.add_point_light([-1, 0, 1], [1, 1, 1], shadow=True)\n",
    "\n",
    "# ---------------------------------------------------------------------------- #\n",
    "# Camera\n",
    "# ---------------------------------------------------------------------------- #\n",
    "near, far = 0.1, 100\n",
    "width, height = 640, 480\n",
    "camera_mount_actor = scene.create_actor_builder().build_kinematic()\n",
    "camera = scene.add_mounted_camera(\n",
    "    name=\"camera\",\n",
    "    actor=camera_mount_actor,\n",
    "    pose=sapien.Pose(),  # relative to the mounted actor\n",
    "    width=width,\n",
    "    height=height,\n",
    "    fovy=np.deg2rad(35),\n",
    "    near=near,\n",
    "    far=far,\n",
    ")\n",
    "\n",
    "print('Intrinsic matrix\\n', camera.get_camera_matrix())\n",
    "\n",
    "# Compute the camera pose by specifying forward(x), left(y) and up(z)\n",
    "cam_pos = np.array([-2, -2, 3])\n",
    "forward = -cam_pos / np.linalg.norm(cam_pos)\n",
    "left = np.cross([0, 0, 1], forward)\n",
    "left = left / np.linalg.norm(left)\n",
    "up = np.cross(forward, left)\n",
    "mat44 = np.eye(4)\n",
    "mat44[:3, :3] = np.stack([forward, left, up], axis=1)\n",
    "mat44[:3, 3] = cam_pos\n",
    "camera_mount_actor.set_pose(sapien.Pose.from_transformation_matrix(mat44))\n",
    "\n",
    "scene.step()  # make everything set\n",
    "scene.update_render()\n",
    "camera.take_picture()\n",
    "\n",
    "# ---------------------------------------------------------------------------- #\n",
    "# RGBA\n",
    "# ---------------------------------------------------------------------------- #\n",
    "rgba = camera.get_float_texture('Color')  # [H, W, 4]\n",
    "# An alias is also provided\n",
    "# rgba = camera.get_color_rgba()  # [H, W, 4]\n",
    "rgba_img = (rgba * 255).clip(0, 255).astype(\"uint8\")\n",
    "rgba_pil = Image.fromarray(rgba_img)\n",
    "rgba_pil.save('color.png')\n",
    "\n",
    "# ---------------------------------------------------------------------------- #\n",
    "# XYZ position in the camera space\n",
    "# ---------------------------------------------------------------------------- #\n",
    "# Each pixel is (x, y, z, is_valid) in camera space (OpenGL/Blender)\n",
    "position = camera.get_float_texture('Position')  # [H, W, 4]\n",
    "\n",
    "# OpenGL/Blender: y up and -z forward\n",
    "points_opengl = position[..., :3][position[..., 3] > 0]\n",
    "points_color = rgba[position[..., 3] > 0][..., :3]\n",
    "# Model matrix is the transformation from OpenGL camera space to SAPIEN world space\n",
    "# camera.get_model_matrix() must be called after scene.update_render()!\n",
    "model_matrix = camera.get_model_matrix()\n",
    "points_world = points_opengl @ model_matrix[:3, :3].T + model_matrix[:3, 3]\n",
    "\n",
    "# SAPIEN CAMERA: z up and x forward\n",
    "# points_camera = points_opengl[..., [2, 0, 1]] * [-1, -1, 1]\n",
    "\n",
    "pcd = o3d.geometry.PointCloud()\n",
    "pcd.points = o3d.utility.Vector3dVector(points_world)\n",
    "pcd.colors = o3d.utility.Vector3dVector(points_color)\n",
    "coord_frame = o3d.geometry.TriangleMesh.create_coordinate_frame()\n"
   ]
  },
  {
   "cell_type": "code",
   "execution_count": 12,
   "metadata": {},
   "outputs": [
    {
     "data": {
      "text/plain": [
       "array([[ 0.71,  0.51, -0.49, -2.  ],\n",
       "       [-0.71,  0.51, -0.49, -2.  ],\n",
       "       [ 0.  ,  0.69,  0.73,  3.  ],\n",
       "       [ 0.  ,  0.  ,  0.  ,  1.  ]], dtype=float32)"
      ]
     },
     "execution_count": 12,
     "metadata": {},
     "output_type": "execute_result"
    }
   ],
   "source": [
    "T_world_vulkan = model_matrix\n",
    "T_world_vulkan.round(2)"
   ]
  },
  {
   "cell_type": "code",
   "execution_count": 8,
   "metadata": {},
   "outputs": [],
   "source": [
    "T_vulkan_opencv = np.array([[1,0,0,0],[0,-1,0,0],[0,0,-1,0],[0,0,0,1]])"
   ]
  },
  {
   "cell_type": "code",
   "execution_count": 9,
   "metadata": {},
   "outputs": [],
   "source": [
    "T_world_opencv = T_world_vulkan @ T_vulkan_opencv"
   ]
  },
  {
   "cell_type": "code",
   "execution_count": 11,
   "metadata": {},
   "outputs": [
    {
     "data": {
      "text/plain": [
       "array([[ 0.71, -0.51,  0.49, -2.  ],\n",
       "       [-0.71, -0.51,  0.49, -2.  ],\n",
       "       [ 0.  , -0.69, -0.73,  3.  ],\n",
       "       [ 0.  ,  0.  ,  0.  ,  1.  ]])"
      ]
     },
     "execution_count": 11,
     "metadata": {},
     "output_type": "execute_result"
    }
   ],
   "source": [
    "T_world_opencv.round(2)"
   ]
  },
  {
   "cell_type": "code",
   "execution_count": 15,
   "metadata": {},
   "outputs": [
    {
     "data": {
      "text/plain": [
       "array([[ 0.49, -0.71,  0.51, -2.  ],\n",
       "       [ 0.49,  0.71,  0.51, -2.  ],\n",
       "       [-0.73, -0.  ,  0.69,  3.  ],\n",
       "       [ 0.  ,  0.  ,  0.  ,  1.  ]], dtype=float32)"
      ]
     },
     "execution_count": 15,
     "metadata": {},
     "output_type": "execute_result"
    }
   ],
   "source": [
    "camera.get_pose().to_transformation_matrix().round(2)"
   ]
  },
  {
   "cell_type": "code",
   "execution_count": 19,
   "metadata": {},
   "outputs": [
    {
     "data": {
      "text/plain": [
       "array([[ 0.  , -0.01,  0.99,  0.  ],\n",
       "       [-1.  , -0.  , -0.  ,  0.  ],\n",
       "       [ 0.  , -1.  , -0.  , -0.  ],\n",
       "       [ 0.  ,  0.  ,  0.  ,  1.  ]])"
      ]
     },
     "execution_count": 19,
     "metadata": {},
     "output_type": "execute_result"
    }
   ],
   "source": [
    "(\n",
    "    np.linalg.inv(\n",
    "    camera.get_pose().to_transformation_matrix().round(2)\n",
    ") @ T_world_opencv\n",
    ").round(2)"
   ]
  },
  {
   "cell_type": "code",
   "execution_count": null,
   "metadata": {},
   "outputs": [],
   "source": []
  }
 ],
 "metadata": {
  "interpreter": {
   "hash": "fea63b0582f55d866489b8c07f153f41cd3eefd5fb1779de361f604623ecee1f"
  },
  "kernelspec": {
   "display_name": "Python 3.8.12 ('cgn')",
   "language": "python",
   "name": "python3"
  },
  "language_info": {
   "codemirror_mode": {
    "name": "ipython",
    "version": 3
   },
   "file_extension": ".py",
   "mimetype": "text/x-python",
   "name": "python",
   "nbconvert_exporter": "python",
   "pygments_lexer": "ipython3",
   "version": "3.8.12"
  },
  "orig_nbformat": 4
 },
 "nbformat": 4,
 "nbformat_minor": 2
}
